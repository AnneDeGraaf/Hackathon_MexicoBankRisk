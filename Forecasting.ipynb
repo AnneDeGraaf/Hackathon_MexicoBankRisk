{
 "cells": [
  {
   "cell_type": "markdown",
   "metadata": {},
   "source": [
    "### Datascience Mini-Hackathon November 8th 2018\n",
    "### Organized by MatrixDS and Bajaware\n",
    "\n",
    "\n",
    "# Mexican Bank Risk:\n",
    "# Forecasting Bank Risk in Mexico by state and corporate size\n",
    "\n",
    "\n",
    "\n",
    "Author: Anne de Graaf\n"
   ]
  },
  {
   "cell_type": "markdown",
   "metadata": {},
   "source": [
    "   "
   ]
  },
  {
   "cell_type": "markdown",
   "metadata": {},
   "source": [
    "# Introduction\n",
    "This notebook is my result for the Datascience Mini-Hackathon organized by MatrixDS and Bajaware. \n",
    "https://matrixds.com/\n",
    "http://bajaware.com/\n",
    "\n",
    "The goal of the hackathon was to predict Average Rate and the relative size of the Nonperforming Portfolio of a given dataset on loans in Mexico. The predictions had to be done by State and Corporate Size.\n",
    "\n",
    "#### The model\n",
    "The models I built are a series of simple linear regression models with L2 regularization. As interest rates are notoriously unpredictible, and as I didn't have enough time to carefully select features for my prediction model, I decided to go with a simple solution: I calculated the train set's \"Average Rate\" and \"% Nonperforming Portfolio\" per month for every combination of State and Corporate Size (same setup as the test data). Next, I made timedependent linear regression models for each of those combinations. For every combination I made two models: one for \"Average Rate\" and one for \"% Nonperforming Portfolio\".\n",
    "\n",
    "The degree (second degree) of the fitted polynomials was chosen more-or-less at random and after I plotted a couple of different polynomials and found a second degree polynomial 'looked' to have the best fit. Regularization is quite heavy, as the train data only spans a very limited time frame. My train data for each model was very little, resulting in a high risk of overfitting (especially with the characteristic high fluctuations of interest rates).\n",
    "\n",
    "Some combinations of State and Corporate Size were missing in the train data. For these combinations I made a model by filtering the train data only on Corporate Size, instead of both Corporate Size and State. \n",
    "\n",
    "I stored all the models in a nested dict, making it easy to select the right model based on State and Corporate Size. Not sure it resulted in the fastest calculations, but I was very statisfied with the structure the dict gave to my bazillion models.\n",
    "\n",
    "Due to the limited time (which is the fun of the game) I didn't exactly follow good data science practice everywhere. At the bottom of this notebook I made some closing remarks on what I would have liked to improve about the model had I had more time. \n",
    "\n",
    "All used data can be found in the parent folder."
   ]
  },
  {
   "cell_type": "markdown",
   "metadata": {},
   "source": [
    "# Getting started"
   ]
  },
  {
   "cell_type": "code",
   "execution_count": 1,
   "metadata": {},
   "outputs": [],
   "source": [
    "import pandas as pd\n",
    "import numpy as np\n",
    "from matplotlib import pyplot as plt\n",
    "from sklearn.linear_model import Ridge\n",
    "from sklearn.preprocessing import PolynomialFeatures"
   ]
  },
  {
   "cell_type": "markdown",
   "metadata": {},
   "source": [
    "### Loading and preprocessing train data"
   ]
  },
  {
   "cell_type": "code",
   "execution_count": 2,
   "metadata": {},
   "outputs": [
    {
     "data": {
      "text/html": [
       "<div>\n",
       "<style scoped>\n",
       "    .dataframe tbody tr th:only-of-type {\n",
       "        vertical-align: middle;\n",
       "    }\n",
       "\n",
       "    .dataframe tbody tr th {\n",
       "        vertical-align: top;\n",
       "    }\n",
       "\n",
       "    .dataframe thead th {\n",
       "        text-align: right;\n",
       "    }\n",
       "</style>\n",
       "<table border=\"1\" class=\"dataframe\">\n",
       "  <thead>\n",
       "    <tr style=\"text-align: right;\">\n",
       "      <th></th>\n",
       "      <th>Corporate Size</th>\n",
       "      <th>State</th>\n",
       "      <th>Currency</th>\n",
       "      <th>Institution</th>\n",
       "      <th>Total Portfolio</th>\n",
       "      <th>Perrformin Portfolio</th>\n",
       "      <th>Non Performing Portfolio</th>\n",
       "      <th>Percent non Performing</th>\n",
       "      <th>Number of Customers</th>\n",
       "      <th>Number of loans</th>\n",
       "      <th>Average Rate</th>\n",
       "      <th>Average Term</th>\n",
       "      <th>Average Rate Median</th>\n",
       "      <th>Average Term Median</th>\n",
       "      <th>Average Monthly Income</th>\n",
       "      <th>DummyDate</th>\n",
       "      <th>Date</th>\n",
       "    </tr>\n",
       "  </thead>\n",
       "  <tbody>\n",
       "    <tr>\n",
       "      <th>0</th>\n",
       "      <td>PyME</td>\n",
       "      <td>AGUASCALIENTES</td>\n",
       "      <td>Moneda nacional</td>\n",
       "      <td>Actinver</td>\n",
       "      <td>18139219.0</td>\n",
       "      <td>18139219.0</td>\n",
       "      <td>0.0</td>\n",
       "      <td>0.0</td>\n",
       "      <td>12</td>\n",
       "      <td>12</td>\n",
       "      <td>11.80</td>\n",
       "      <td>25.91</td>\n",
       "      <td>0.00</td>\n",
       "      <td>0.00</td>\n",
       "      <td>2140427.84</td>\n",
       "      <td>2018-02-01</td>\n",
       "      <td>20.041479</td>\n",
       "    </tr>\n",
       "    <tr>\n",
       "      <th>1</th>\n",
       "      <td>PyME</td>\n",
       "      <td>AGUASCALIENTES</td>\n",
       "      <td>Moneda nacional</td>\n",
       "      <td>Actinver</td>\n",
       "      <td>18395095.0</td>\n",
       "      <td>18395095.0</td>\n",
       "      <td>0.0</td>\n",
       "      <td>0.0</td>\n",
       "      <td>13</td>\n",
       "      <td>13</td>\n",
       "      <td>11.62</td>\n",
       "      <td>26.03</td>\n",
       "      <td>0.00</td>\n",
       "      <td>0.00</td>\n",
       "      <td>2137510.04</td>\n",
       "      <td>2018-01-01</td>\n",
       "      <td>19.022978</td>\n",
       "    </tr>\n",
       "    <tr>\n",
       "      <th>2</th>\n",
       "      <td>PyME</td>\n",
       "      <td>BAJA CALIFORNIA NORTE</td>\n",
       "      <td>Moneda nacional</td>\n",
       "      <td>Actinver</td>\n",
       "      <td>25337899.0</td>\n",
       "      <td>25337899.0</td>\n",
       "      <td>0.0</td>\n",
       "      <td>0.0</td>\n",
       "      <td>3</td>\n",
       "      <td>3</td>\n",
       "      <td>12.33</td>\n",
       "      <td>24.09</td>\n",
       "      <td>0.00</td>\n",
       "      <td>0.00</td>\n",
       "      <td>3124162.95</td>\n",
       "      <td>2018-02-01</td>\n",
       "      <td>20.041479</td>\n",
       "    </tr>\n",
       "    <tr>\n",
       "      <th>3</th>\n",
       "      <td>PyME</td>\n",
       "      <td>BAJA CALIFORNIA NORTE</td>\n",
       "      <td>Moneda nacional</td>\n",
       "      <td>Actinver</td>\n",
       "      <td>25204074.0</td>\n",
       "      <td>25204074.0</td>\n",
       "      <td>0.0</td>\n",
       "      <td>0.0</td>\n",
       "      <td>3</td>\n",
       "      <td>3</td>\n",
       "      <td>12.16</td>\n",
       "      <td>24.09</td>\n",
       "      <td>12.16</td>\n",
       "      <td>12.16</td>\n",
       "      <td>3064815.40</td>\n",
       "      <td>2018-01-01</td>\n",
       "      <td>19.022978</td>\n",
       "    </tr>\n",
       "    <tr>\n",
       "      <th>4</th>\n",
       "      <td>PyME</td>\n",
       "      <td>BAJA CALIFORNIA SUR</td>\n",
       "      <td>Moneda nacional</td>\n",
       "      <td>Actinver</td>\n",
       "      <td>6030713.0</td>\n",
       "      <td>6030713.0</td>\n",
       "      <td>0.0</td>\n",
       "      <td>0.0</td>\n",
       "      <td>1</td>\n",
       "      <td>1</td>\n",
       "      <td>10.83</td>\n",
       "      <td>36.00</td>\n",
       "      <td>0.00</td>\n",
       "      <td>0.00</td>\n",
       "      <td>653126.22</td>\n",
       "      <td>2018-02-01</td>\n",
       "      <td>20.041479</td>\n",
       "    </tr>\n",
       "  </tbody>\n",
       "</table>\n",
       "</div>"
      ],
      "text/plain": [
       "  Corporate Size                  State         Currency Institution  \\\n",
       "0           PyME         AGUASCALIENTES  Moneda nacional    Actinver   \n",
       "1           PyME         AGUASCALIENTES  Moneda nacional    Actinver   \n",
       "2           PyME  BAJA CALIFORNIA NORTE  Moneda nacional    Actinver   \n",
       "3           PyME  BAJA CALIFORNIA NORTE  Moneda nacional    Actinver   \n",
       "4           PyME    BAJA CALIFORNIA SUR  Moneda nacional    Actinver   \n",
       "\n",
       "   Total Portfolio  Perrformin Portfolio  Non Performing Portfolio  \\\n",
       "0       18139219.0            18139219.0                       0.0   \n",
       "1       18395095.0            18395095.0                       0.0   \n",
       "2       25337899.0            25337899.0                       0.0   \n",
       "3       25204074.0            25204074.0                       0.0   \n",
       "4        6030713.0             6030713.0                       0.0   \n",
       "\n",
       "   Percent non Performing  Number of Customers  Number of loans  Average Rate  \\\n",
       "0                     0.0                   12               12         11.80   \n",
       "1                     0.0                   13               13         11.62   \n",
       "2                     0.0                    3                3         12.33   \n",
       "3                     0.0                    3                3         12.16   \n",
       "4                     0.0                    1                1         10.83   \n",
       "\n",
       "   Average Term  Average Rate Median  Average Term Median  \\\n",
       "0         25.91                 0.00                 0.00   \n",
       "1         26.03                 0.00                 0.00   \n",
       "2         24.09                 0.00                 0.00   \n",
       "3         24.09                12.16                12.16   \n",
       "4         36.00                 0.00                 0.00   \n",
       "\n",
       "   Average Monthly Income  DummyDate       Date  \n",
       "0              2140427.84 2018-02-01  20.041479  \n",
       "1              2137510.04 2018-01-01  19.022978  \n",
       "2              3124162.95 2018-02-01  20.041479  \n",
       "3              3064815.40 2018-01-01  19.022978  \n",
       "4               653126.22 2018-02-01  20.041479  "
      ]
     },
     "execution_count": 2,
     "metadata": {},
     "output_type": "execute_result"
    }
   ],
   "source": [
    "data = pd.read_csv('../Corporate_Loans_Data.csv')\n",
    "\n",
    "# Change time stamp into numerical:\n",
    "data['Day'] = 1\n",
    "data['DummyDate'] = pd.to_datetime(data[['Year','Month','Day']], yearfirst=True)\n",
    "data = data.drop(['Month'], axis=1)\n",
    "data = data.drop(['Year'], axis=1)\n",
    "data = data.drop(['Day'], axis=1)\n",
    "data['Date'] = (data['DummyDate'] - data['DummyDate'].min()) / np.timedelta64(1,'M')\n",
    "\n",
    "data.head()"
   ]
  },
  {
   "cell_type": "code",
   "execution_count": 3,
   "metadata": {},
   "outputs": [
    {
     "name": "stdout",
     "output_type": "stream",
     "text": [
      "['AGUASCALIENTES' 'BAJA CALIFORNIA NORTE' 'BAJA CALIFORNIA SUR' 'CAMPECHE'\n",
      " 'CHIAPAS' 'CHIHUAHUA' 'COAHUILA' 'DISTRITO FEDERAL' 'DURANGO'\n",
      " 'GUANAJUATO' 'HIDALGO' 'JALISCO' 'MEXICO' 'MICHOACAN' 'MORELOS'\n",
      " 'NUEVO LEON' 'OAXACA' 'PUEBLA' 'QUERETARO' 'QUINTANA ROO'\n",
      " 'SAN LUIS POTOSI' 'SINALOA' 'SONORA' 'TAMAULIPAS' 'VERACRUZ' 'YUCATAN'\n",
      " 'EXTRANJERO' 'COLIMA' 'NAYARIT' 'TABASCO' 'ZACATECAS' 'GUERRERO'\n",
      " 'TLAXCALA']\n",
      "['PyME' 'Grande' 'Fideicomiso' 'Entidades Financieras']\n"
     ]
    }
   ],
   "source": [
    "states = data.State.unique()\n",
    "corp_sizes = data['Corporate Size'].unique()\n",
    "print(states) \n",
    "print(corp_sizes)"
   ]
  },
  {
   "cell_type": "markdown",
   "metadata": {},
   "source": [
    "# Trial model"
   ]
  },
  {
   "cell_type": "code",
   "execution_count": 21,
   "metadata": {},
   "outputs": [],
   "source": [
    "# Split into train and crossvalidation set:\n",
    "train_data = data[data['Date']<14.0].copy()\n",
    "train_data['Date2'] = train_data['Date']**2\n",
    "X_train = train_data[['Date', 'Date2']].copy()\n",
    "X_train = X_train.drop_duplicates(keep='first')\n",
    "\n",
    "cross_data = data[data['Date']>14.0].copy()\n",
    "cross_data['Date2'] = cross_data['Date']**2\n",
    "X_cross = cross_data[['Date', 'Date2']].copy()\n",
    "X_cross = X_cross.drop_duplicates(keep='first')\n",
    "\n",
    "# print(X_train)\n",
    "# print(len(data))\n",
    "# print(len(train_data)+len(cross_data))"
   ]
  },
  {
   "cell_type": "markdown",
   "metadata": {},
   "source": [
    "### Trial model for \"mean rate\" prediction"
   ]
  },
  {
   "cell_type": "code",
   "execution_count": 22,
   "metadata": {},
   "outputs": [],
   "source": [
    "state = 'AGUASCALIENTES'\n",
    "size = 'PyME'\n",
    "\n",
    "train_state = train_data.loc[train_data['State'] == state]\n",
    "train_state_size = train_state.loc[train_state['Corporate Size'] == size]\n",
    "\n",
    "meanRate = train_state_size['Average Rate'].groupby(\n",
    "    train_state_size['Date']).mean()\n",
    "\n",
    "ridge = Ridge(alpha=5.0, fit_intercept=True, normalize=True).fit(X_train, meanRate)\n",
    "cross_predict = ridge.predict(X_cross)"
   ]
  },
  {
   "cell_type": "code",
   "execution_count": 23,
   "metadata": {},
   "outputs": [
    {
     "data": {
      "image/png": "[encoded data removed]",
      "text/plain": [
       "<Figure size 432x288 with 1 Axes>"
      ]
     },
     "metadata": {
      "needs_background": "light"
     },
     "output_type": "display_data"
    }
   ],
   "source": [
    "cross_state = cross_data.loc[cross_data['State'] == state]\n",
    "cross_state_size = cross_state.loc[cross_state['Corporate Size'] == size]\n",
    "\n",
    "meanRate_cross = cross_state_size['Average Rate'].groupby(\n",
    "    cross_state_size['Date']).mean()\n",
    "\n",
    "plt.figure()\n",
    "plt.plot(X_train['Date'], meanRate, 'ko', label='True train data')\n",
    "plt.plot(X_cross['Date'], meanRate_cross, 'grey', marker='o', label='True crossval data')\n",
    "plt.plot(X_cross['Date'], cross_predict, '-r', label='prediction on crossval set')\n",
    "plt.title('Loan rates')\n",
    "plt.xlabel('Time in months relative to first data')\n",
    "plt.ylabel('Loan rate in %')\n",
    "plt.legend();"
   ]
  },
  {
   "cell_type": "markdown",
   "metadata": {},
   "source": [
    "### Trial model for \"% non performing\" prediction"
   ]
  },
  {
   "cell_type": "code",
   "execution_count": 24,
   "metadata": {},
   "outputs": [
    {
     "data": {
      "image/png": "[encoded data removed]",
      "text/plain": [
       "<Figure size 432x288 with 1 Axes>"
      ]
     },
     "metadata": {
      "needs_background": "light"
     },
     "output_type": "display_data"
    }
   ],
   "source": [
    "state = 'AGUASCALIENTES'\n",
    "size = 'PyME'\n",
    "\n",
    "train_state = train_data.loc[train_data['State'] == state]\n",
    "train_state_size = train_state.loc[train_state['Corporate Size'] == size]\n",
    "\n",
    "total = train_state_size['Total Portfolio'].groupby(\n",
    "    train_state_size['Date']).sum()\n",
    "nonperf = train_state_size['Non Performing Portfolio'].groupby(\n",
    "    train_state_size['Date']).sum()\n",
    "percentage = nonperf/total\n",
    "\n",
    "# print(len(total), len(nonperf), len(percentage))\n",
    "# print(percentage)\n",
    "\n",
    "ridge = Ridge(alpha=5.0, fit_intercept=True, normalize=True).fit(X_train, percentage)\n",
    "cross_predict = ridge.predict(X_cross)\n",
    "\n",
    "cross_state = cross_data.loc[cross_data['State'] == state]\n",
    "cross_state_size = cross_state.loc[cross_state['Corporate Size'] == size]\n",
    "\n",
    "cross_total = cross_state_size['Total Portfolio'].groupby(\n",
    "    cross_state_size['Date']).sum()\n",
    "cross_nonperf = cross_state_size['Non Performing Portfolio'].groupby(\n",
    "    cross_state_size['Date']).sum()\n",
    "cross_percentage = cross_nonperf/cross_total\n",
    "\n",
    "plt.figure()\n",
    "plt.plot(X_train['Date'], percentage, 'ko', label='True train data')\n",
    "plt.plot(X_cross['Date'], cross_percentage, 'grey', marker='o', label='True crossval data')\n",
    "plt.plot(X_cross['Date'], cross_predict, '-r', label='Prediction on crossval');\n",
    "plt.title('% Non performing loans')\n",
    "plt.xlabel('Time in months relative to first data')\n",
    "plt.ylabel('% Non performing')\n",
    "plt.legend();"
   ]
  },
  {
   "cell_type": "markdown",
   "metadata": {},
   "source": [
    "# Creating final models"
   ]
  },
  {
   "cell_type": "code",
   "execution_count": 25,
   "metadata": {},
   "outputs": [],
   "source": [
    "data['Date2'] = data['Date']**2\n",
    "X = data[['Date', 'Date2']].copy()\n",
    "X = X.drop_duplicates(keep='first')"
   ]
  },
  {
   "cell_type": "markdown",
   "metadata": {},
   "source": [
    "### Creating dict of models (ordered by Region and Corporation Size)"
   ]
  },
  {
   "cell_type": "code",
   "execution_count": 26,
   "metadata": {},
   "outputs": [],
   "source": [
    "fit_dict = {}\n",
    "\n",
    "for state in states:\n",
    "    fit_dict[state]= {}\n",
    "    for size in corp_sizes:\n",
    "        \n",
    "        fit_dict[state][size] = {}\n",
    "        \n",
    "        # take subset from data based on state and corporate size:\n",
    "        sortByState = data.loc[data['State'] == state]\n",
    "        sortByStateSize = sortByState.loc[sortByState['Corporate Size'] == size]\n",
    "        \n",
    "        # check if state/size combination is present in train set:\n",
    "        if len(sortByStateSize) > 0:\n",
    "            \n",
    "            # create model for mean rate prediction\n",
    "            dates = sortByStateSize[['Date']].copy().drop_duplicates()\n",
    "            meanRate = sortByStateSize['Average Rate'].groupby(\n",
    "                    sortByStateSize['Date']).mean()\n",
    "            fit_dict[state][size]['rate'] = Ridge(alpha=5.0, fit_intercept=True, \n",
    "                          normalize=True).fit(dates, meanRate)\n",
    "\n",
    "            # create model for % non perf prediction\n",
    "            total = sortByStateSize['Total Portfolio'].groupby(\n",
    "                    sortByStateSize['Date']).sum()\n",
    "            nonperf = sortByStateSize['Non Performing Portfolio'].groupby(\n",
    "                    sortByStateSize['Date']).sum()\n",
    "            percentage = nonperf/total\n",
    "\n",
    "            fit_dict[state][size]['nonperf'] = Ridge(alpha=5.0, \n",
    "                    fit_intercept=True, normalize=True).fit(dates, percentage)\n",
    "        \n",
    "        # if combination is not present, use the average of the Corporate Size:\n",
    "        else:\n",
    "            sortByCorpSize = data.loc[data['Corporate Size'] == size]\n",
    "            \n",
    "            # create model for mean rate prediction\n",
    "            dates = sortByCorpSize[['Date']].copy().drop_duplicates()\n",
    "            meanRate = sortByCorpSize['Average Rate'].groupby(\n",
    "                    sortByCorpSize['Date']).mean()\n",
    "            fit_dict[state][size]['rate'] = Ridge(alpha=5.0, fit_intercept=True, \n",
    "                          normalize=True).fit(dates, meanRate)\n",
    "\n",
    "            # create model for % non perf prediction\n",
    "            total = sortByCorpSize['Total Portfolio'].groupby(\n",
    "                    sortByCorpSize['Date']).sum()\n",
    "            nonperf = sortByCorpSize['Non Performing Portfolio'].groupby(\n",
    "                    sortByCorpSize['Date']).sum()\n",
    "            percentage = nonperf/total\n",
    "\n",
    "            fit_dict[state][size]['nonperf'] = Ridge(alpha=5.0, \n",
    "                    fit_intercept=True, normalize=True).fit(dates, percentage)\n",
    "        "
   ]
  },
  {
   "cell_type": "markdown",
   "metadata": {},
   "source": [
    "### Making a random sanity plot"
   ]
  },
  {
   "cell_type": "code",
   "execution_count": 27,
   "metadata": {},
   "outputs": [
    {
     "data": {
      "image/png": "[encoded data removed]",
      "text/plain": [
       "<Figure size 432x288 with 1 Axes>"
      ]
     },
     "metadata": {
      "needs_background": "light"
     },
     "output_type": "display_data"
    },
    {
     "data": {
      "image/png": "[encoded data removed]",
      "text/plain": [
       "<Figure size 432x288 with 1 Axes>"
      ]
     },
     "metadata": {
      "needs_background": "light"
     },
     "output_type": "display_data"
    }
   ],
   "source": [
    "# sanity plot\n",
    "state = 'CHIHUAHUA'\n",
    "size = 'PyME'\n",
    "\n",
    "sortByState = data.loc[data['State'] == state]\n",
    "sortByStateSize = sortByState.loc[sortByState['Corporate Size'] == size]\n",
    "       \n",
    "dates = sortByStateSize[['Date']].copy().drop_duplicates()\n",
    "\n",
    "# loan rates\n",
    "meanRate = sortByStateSize['Average Rate'].groupby(\n",
    "    sortByStateSize['Date']).mean()\n",
    "\n",
    "model = fit_dict[state][size]['rate']\n",
    "predict = model.predict(dates)\n",
    "\n",
    "plt.figure()\n",
    "plt.plot(dates, meanRate, 'ko', label='True data')\n",
    "plt.plot(X['Date'], predict, '-r', label='Fitted model')\n",
    "plt.title('Loan rates')\n",
    "plt.xlabel('Time in months relative to first data')\n",
    "plt.ylabel('Loan rate in %')\n",
    "plt.legend()\n",
    "\n",
    "# % non performing loans\n",
    "total = sortByStateSize['Total Portfolio'].groupby(\n",
    "    sortByStateSize['Date']).sum()\n",
    "nonperf = sortByStateSize['Non Performing Portfolio'].groupby(\n",
    "    sortByStateSize['Date']).sum()\n",
    "nonperforming_perc = nonperf/total\n",
    "\n",
    "model_perc = fit_dict[state][size]['nonperf']\n",
    "predict_perc = model_perc.predict(dates)\n",
    "\n",
    "plt.figure()\n",
    "plt.plot(dates, nonperforming_perc, 'ko', label='True data')\n",
    "plt.plot(X['Date'], predict_perc, '-r', label='Fitted model')\n",
    "plt.title('% Non performing loans')\n",
    "plt.xlabel('Time in months relative to first data')\n",
    "plt.ylabel('% Non performing')\n",
    "plt.legend();"
   ]
  },
  {
   "cell_type": "markdown",
   "metadata": {},
   "source": [
    "# Forecasting/predicting test set"
   ]
  },
  {
   "cell_type": "markdown",
   "metadata": {},
   "source": [
    "### Loading and preprocessing test data"
   ]
  },
  {
   "cell_type": "code",
   "execution_count": 161,
   "metadata": {},
   "outputs": [
    {
     "data": {
      "text/html": [
       "<div>\n",
       "<style scoped>\n",
       "    .dataframe tbody tr th:only-of-type {\n",
       "        vertical-align: middle;\n",
       "    }\n",
       "\n",
       "    .dataframe tbody tr th {\n",
       "        vertical-align: top;\n",
       "    }\n",
       "\n",
       "    .dataframe thead th {\n",
       "        text-align: right;\n",
       "    }\n",
       "</style>\n",
       "<table border=\"1\" class=\"dataframe\">\n",
       "  <thead>\n",
       "    <tr style=\"text-align: right;\">\n",
       "      <th></th>\n",
       "      <th>Month</th>\n",
       "      <th>Year</th>\n",
       "      <th>State</th>\n",
       "      <th>Corporate Size</th>\n",
       "      <th>MeanRate</th>\n",
       "      <th>PercentNonPerforming</th>\n",
       "      <th>Date</th>\n",
       "    </tr>\n",
       "  </thead>\n",
       "  <tbody>\n",
       "    <tr>\n",
       "      <th>0</th>\n",
       "      <td>3</td>\n",
       "      <td>2018</td>\n",
       "      <td>AGUASCALIENTES</td>\n",
       "      <td>PyME</td>\n",
       "      <td>0</td>\n",
       "      <td>0</td>\n",
       "      <td>20.961416</td>\n",
       "    </tr>\n",
       "    <tr>\n",
       "      <th>1</th>\n",
       "      <td>3</td>\n",
       "      <td>2018</td>\n",
       "      <td>BAJA CALIFORNIA NORTE</td>\n",
       "      <td>PyME</td>\n",
       "      <td>0</td>\n",
       "      <td>0</td>\n",
       "      <td>20.961416</td>\n",
       "    </tr>\n",
       "    <tr>\n",
       "      <th>2</th>\n",
       "      <td>3</td>\n",
       "      <td>2018</td>\n",
       "      <td>BAJA CALIFORNIA SUR</td>\n",
       "      <td>PyME</td>\n",
       "      <td>0</td>\n",
       "      <td>0</td>\n",
       "      <td>20.961416</td>\n",
       "    </tr>\n",
       "    <tr>\n",
       "      <th>3</th>\n",
       "      <td>3</td>\n",
       "      <td>2018</td>\n",
       "      <td>CAMPECHE</td>\n",
       "      <td>PyME</td>\n",
       "      <td>0</td>\n",
       "      <td>0</td>\n",
       "      <td>20.961416</td>\n",
       "    </tr>\n",
       "    <tr>\n",
       "      <th>4</th>\n",
       "      <td>3</td>\n",
       "      <td>2018</td>\n",
       "      <td>CHIAPAS</td>\n",
       "      <td>PyME</td>\n",
       "      <td>0</td>\n",
       "      <td>0</td>\n",
       "      <td>20.961416</td>\n",
       "    </tr>\n",
       "  </tbody>\n",
       "</table>\n",
       "</div>"
      ],
      "text/plain": [
       "   Month  Year                  State Corporate Size  MeanRate  \\\n",
       "0      3  2018         AGUASCALIENTES           PyME         0   \n",
       "1      3  2018  BAJA CALIFORNIA NORTE           PyME         0   \n",
       "2      3  2018    BAJA CALIFORNIA SUR           PyME         0   \n",
       "3      3  2018               CAMPECHE           PyME         0   \n",
       "4      3  2018                CHIAPAS           PyME         0   \n",
       "\n",
       "   PercentNonPerforming       Date  \n",
       "0                     0  20.961416  \n",
       "1                     0  20.961416  \n",
       "2                     0  20.961416  \n",
       "3                     0  20.961416  \n",
       "4                     0  20.961416  "
      ]
     },
     "execution_count": 161,
     "metadata": {},
     "output_type": "execute_result"
    }
   ],
   "source": [
    "test_data = pd.read_csv('../agregate_test.csv')\n",
    "\n",
    "test_data['Day'] = 1\n",
    "test_data['DummyDate'] = pd.to_datetime(test_data[['Year','Month','Day']], yearfirst=True)\n",
    "test_data = test_data.drop(['Day'], axis=1)\n",
    "test_data['Date'] = (test_data['DummyDate'] - data['DummyDate'].min()) / np.timedelta64(1,'M')\n",
    "test_data = test_data.drop(['DummyDate'], axis=1)\n",
    "\n",
    "test_data.head()"
   ]
  },
  {
   "cell_type": "markdown",
   "metadata": {},
   "source": [
    "### Predicting MeanRate and PercentNonPerforming"
   ]
  },
  {
   "cell_type": "code",
   "execution_count": 164,
   "metadata": {},
   "outputs": [
    {
     "data": {
      "text/html": [
       "<div>\n",
       "<style scoped>\n",
       "    .dataframe tbody tr th:only-of-type {\n",
       "        vertical-align: middle;\n",
       "    }\n",
       "\n",
       "    .dataframe tbody tr th {\n",
       "        vertical-align: top;\n",
       "    }\n",
       "\n",
       "    .dataframe thead th {\n",
       "        text-align: right;\n",
       "    }\n",
       "</style>\n",
       "<table border=\"1\" class=\"dataframe\">\n",
       "  <thead>\n",
       "    <tr style=\"text-align: right;\">\n",
       "      <th></th>\n",
       "      <th>Month</th>\n",
       "      <th>Year</th>\n",
       "      <th>State</th>\n",
       "      <th>Corporate Size</th>\n",
       "      <th>MeanRate</th>\n",
       "      <th>PercentNonPerforming</th>\n",
       "    </tr>\n",
       "  </thead>\n",
       "  <tbody>\n",
       "    <tr>\n",
       "      <th>0</th>\n",
       "      <td>3</td>\n",
       "      <td>2018</td>\n",
       "      <td>AGUASCALIENTES</td>\n",
       "      <td>PyME</td>\n",
       "      <td>10.465758</td>\n",
       "      <td>0.021612</td>\n",
       "    </tr>\n",
       "    <tr>\n",
       "      <th>1</th>\n",
       "      <td>3</td>\n",
       "      <td>2018</td>\n",
       "      <td>BAJA CALIFORNIA NORTE</td>\n",
       "      <td>PyME</td>\n",
       "      <td>10.056957</td>\n",
       "      <td>0.036812</td>\n",
       "    </tr>\n",
       "    <tr>\n",
       "      <th>2</th>\n",
       "      <td>3</td>\n",
       "      <td>2018</td>\n",
       "      <td>BAJA CALIFORNIA SUR</td>\n",
       "      <td>PyME</td>\n",
       "      <td>10.886604</td>\n",
       "      <td>0.035915</td>\n",
       "    </tr>\n",
       "    <tr>\n",
       "      <th>3</th>\n",
       "      <td>3</td>\n",
       "      <td>2018</td>\n",
       "      <td>CAMPECHE</td>\n",
       "      <td>PyME</td>\n",
       "      <td>12.480983</td>\n",
       "      <td>0.087823</td>\n",
       "    </tr>\n",
       "    <tr>\n",
       "      <th>4</th>\n",
       "      <td>3</td>\n",
       "      <td>2018</td>\n",
       "      <td>CHIAPAS</td>\n",
       "      <td>PyME</td>\n",
       "      <td>11.973948</td>\n",
       "      <td>0.050679</td>\n",
       "    </tr>\n",
       "  </tbody>\n",
       "</table>\n",
       "</div>"
      ],
      "text/plain": [
       "   Month  Year                  State Corporate Size   MeanRate  \\\n",
       "0      3  2018         AGUASCALIENTES           PyME  10.465758   \n",
       "1      3  2018  BAJA CALIFORNIA NORTE           PyME  10.056957   \n",
       "2      3  2018    BAJA CALIFORNIA SUR           PyME  10.886604   \n",
       "3      3  2018               CAMPECHE           PyME  12.480983   \n",
       "4      3  2018                CHIAPAS           PyME  11.973948   \n",
       "\n",
       "   PercentNonPerforming  \n",
       "0              0.021612  \n",
       "1              0.036812  \n",
       "2              0.035915  \n",
       "3              0.087823  \n",
       "4              0.050679  "
      ]
     },
     "execution_count": 164,
     "metadata": {},
     "output_type": "execute_result"
    }
   ],
   "source": [
    "prediction1 = test_data.copy()\n",
    "\n",
    "for i in range(len(prediction1)):\n",
    "    state_i = prediction1.State.iloc[i]\n",
    "    size_i = prediction1['Corporate Size'].iloc[i]\n",
    "    date_i = [[prediction1.Date.iloc[i]]]\n",
    "    \n",
    "    rateModel_i = fit_dict[state_i][size_i]['rate']\n",
    "    prediction1.MeanRate.iloc[i] = rateModel_i.predict(date_i)\n",
    "    \n",
    "    nonperfModel_i = fit_dict[state_i][size_i]['nonperf']\n",
    "    prediction1.PercentNonPerforming.iloc[i] = nonperfModel_i.predict(date_i)\n",
    "    \n",
    "prediction1 = prediction1.drop(['Date'], axis=1)\n",
    "prediction1.to_csv('../prediction1.csv')\n",
    "prediction1.head()"
   ]
  },
  {
   "cell_type": "markdown",
   "metadata": {},
   "source": [
    "# Final Remarks\n",
    "\n",
    "Unfortunately, I don't have any time left for optimizing my models. If I would have had more time I would try:\n",
    "- Optimizing the hyperparameters of my models, and evaluate the degree of the fitted polynomial (which was now chosen at random).\n",
    "- Fit a model on the Average Rate, weighed by the portfolio size\n",
    "- If I had a lot of extra time: make a far more sophisticated model, maybe even a neural net, that takes things like currency, institution etc. into account. Although I'm not sure it would greatly improve results.\n",
    "\n",
    "### Thanks for an awesome time at the hackathon!"
   ]
  },
  {
   "cell_type": "code",
   "execution_count": null,
   "metadata": {},
   "outputs": [],
   "source": []
  }
 ],
 "metadata": {
  "kernelspec": {
   "display_name": "Python 2",
   "language": "python",
   "name": "python2"
  },
  "language_info": {
   "codemirror_mode": {
    "name": "ipython",
    "version": 2
   },
   "file_extension": ".py",
   "mimetype": "text/x-python",
   "name": "python",
   "nbconvert_exporter": "python",
   "pygments_lexer": "ipython2",
   "version": "2.7.15"
  }
 },
 "nbformat": 4,
 "nbformat_minor": 2
}
